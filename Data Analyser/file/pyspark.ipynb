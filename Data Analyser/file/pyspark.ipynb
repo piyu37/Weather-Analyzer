{
 "cells": [
  {
   "cell_type": "code",
   "execution_count": 12,
   "metadata": {},
   "outputs": [],
   "source": [
    "import weather"
   ]
  },
  {
   "cell_type": "code",
   "execution_count": 13,
   "metadata": {},
   "outputs": [
    {
     "name": "stdout",
     "output_type": "stream",
     "text": [
      "Total Number of data : 75\n",
      "Number of Partition :: 2\n",
      "Number of data in partition 0 : 37\n",
      "Number of data in partition 1 : 38\n",
      "+------+----------+--------+--------+--------+--------+---------+\n",
      "|  city|      date|maxtempC|maxtempF|minTempF|mintempC|weatherId|\n",
      "+------+----------+--------+--------+--------+--------+---------+\n",
      "|jaipur|2018-06-20|      42|     108|      94|      34|        1|\n",
      "|jaipur|2018-06-21|      43|     109|      95|      35|        2|\n",
      "|jaipur|2018-06-22|      44|     111|      96|      36|        3|\n",
      "|jaipur|2018-06-23|      43|     110|      92|      33|        4|\n",
      "|jaipur|2018-06-24|      42|     107|      97|      36|        5|\n",
      "|jaipur|2018-06-25|      35|      96|      90|      32|        6|\n",
      "|jaipur|2018-06-26|      38|     100|      88|      31|        7|\n",
      "|jaipur|2018-06-27|      35|      95|      87|      31|        8|\n",
      "|jaipur|2018-06-28|      36|      96|      86|      30|        9|\n",
      "|jaipur|2018-06-29|      35|      95|      84|      29|       10|\n",
      "|jaipur|2018-06-30|      36|      96|      86|      30|       11|\n",
      "|jaipur|2018-07-01|      36|      97|      87|      31|       12|\n",
      "|jaipur|2018-07-02|      37|      98|      87|      31|       13|\n",
      "|jaipur|2018-07-03|      37|      98|      87|      30|       14|\n",
      "|jaipur|2018-07-04|      35|      96|      85|      29|       15|\n",
      "|jaipur|2018-07-05|      36|      97|      86|      30|       16|\n",
      "|jaipur|2018-07-06|      37|      99|      86|      30|       17|\n",
      "|jaipur|2018-07-07|      41|     105|      88|      31|       18|\n",
      "|jaipur|2018-07-08|      42|     108|      92|      33|       19|\n",
      "|jaipur|2018-07-09|      41|     106|      92|      33|       20|\n",
      "+------+----------+--------+--------+--------+--------+---------+\n",
      "only showing top 20 rows\n",
      "\n"
     ]
    }
   ],
   "source": [
    "weather_data, windspeed_data = weather.get_weather_data()\n",
    "weather_data.show()\n",
    "date_jaipur = weather_data.where(weather_data.city=='jaipur').where(weather_data.date.between('2018-06-30','2018-07-14')).select('date').head(15)\n",
    "mintempC_jaipur = weather_data.where(weather_data.city=='jaipur').where(weather_data.date.between('2018-06-30','2018-07-14')).select('mintempC').head(15)\n",
    "maxtempC_jaipur = weather_data.where(weather_data.city=='jaipur').where(weather_data.date.between('2018-06-30','2018-07-14')).select('maxtempC').head(15)"
   ]
  },
  {
   "cell_type": "code",
   "execution_count": 14,
   "metadata": {},
   "outputs": [
    {
     "data": {
      "text/html": [
       "<iframe id=\"igraph\" scrolling=\"no\" style=\"border:none;\" seamless=\"seamless\" src=\"https://plot.ly/~ptiwari248/6.embed\" height=\"525px\" width=\"100%\"></iframe>"
      ],
      "text/plain": [
       "<plotly.tools.PlotlyDisplay object>"
      ]
     },
     "execution_count": 14,
     "metadata": {},
     "output_type": "execute_result"
    }
   ],
   "source": [
    "import plotly.plotly as py\n",
    "import plotly.graph_objs as go\n",
    "\n",
    "trace1 = go.Bar(\n",
    "    x=date_jaipur,\n",
    "    y=mintempC_jaipur,\n",
    "    name='min temp.'\n",
    ")\n",
    "trace2 = go.Bar(\n",
    "    x=date_jaipur,\n",
    "    y=maxtempC_jaipur,\n",
    "    name='max temp.',\n",
    "    marker=dict(\n",
    "    color='orange')\n",
    ")\n",
    "\n",
    "data = [trace1, trace2]\n",
    "layout = go.Layout(\n",
    "    barmode='group',\n",
    "    title='Temperature(degrees C) bar graph(Jaipur)',\n",
    "    xaxis=dict(\n",
    "        title='Date',\n",
    "        tickangle=-45),\n",
    "    yaxis=dict(\n",
    "        title='Temperature (degrees C)')\n",
    ")\n",
    "\n",
    "fig = go.Figure(data=data, layout=layout)\n",
    "py.iplot(fig, filename='grouped-bar')"
   ]
  },
  {
   "cell_type": "code",
   "execution_count": 15,
   "metadata": {},
   "outputs": [],
   "source": [
    "date_mumbai = weather_data.where(weather_data.city=='mumbai').where(weather_data.date.between('2018-06-30','2018-07-14')).select('date').head(15)\n",
    "mintempC_mumbai = weather_data.where(weather_data.city=='mumbai').where(weather_data.date.between('2018-06-30','2018-07-14')).select('mintempC').head(15)\n",
    "maxtempC_mumbai = weather_data.where(weather_data.city=='mumbai').where(weather_data.date.between('2018-06-30','2018-07-14')).select('maxtempC').head(15)"
   ]
  },
  {
   "cell_type": "code",
   "execution_count": 5,
   "metadata": {},
   "outputs": [
    {
     "data": {
      "text/html": [
       "<iframe id=\"igraph\" scrolling=\"no\" style=\"border:none;\" seamless=\"seamless\" src=\"https://plot.ly/~ptiwari248/6.embed\" height=\"525px\" width=\"100%\"></iframe>"
      ],
      "text/plain": [
       "<plotly.tools.PlotlyDisplay object>"
      ]
     },
     "execution_count": 5,
     "metadata": {},
     "output_type": "execute_result"
    }
   ],
   "source": [
    "import plotly.plotly as py\n",
    "import plotly.graph_objs as go\n",
    "\n",
    "trace1 = go.Bar(\n",
    "    x=date_mumbai,\n",
    "    y=mintempC_mumbai,\n",
    "    name='min temp.'\n",
    ")\n",
    "trace2 = go.Bar(\n",
    "    x=date_mumbai,\n",
    "    y=maxtempC_mumbai,\n",
    "    name='max temp.',\n",
    "    marker=dict(\n",
    "    color='orange')\n",
    ")\n",
    "\n",
    "data = [trace1, trace2]\n",
    "layout = go.Layout(\n",
    "    barmode='group',\n",
    "    title='Temperature(degrees C) bar graph(Mumbai)',\n",
    "    xaxis=dict(\n",
    "        title='Date',\n",
    "        tickangle=-45),\n",
    "    yaxis=dict(\n",
    "        title='Temperature (degrees C)')\n",
    ")\n",
    "\n",
    "fig = go.Figure(data=data, layout=layout)\n",
    "py.iplot(fig, filename='grouped-bar')"
   ]
  },
  {
   "cell_type": "code",
   "execution_count": 16,
   "metadata": {},
   "outputs": [],
   "source": [
    "date_bangalore = weather_data.where(weather_data.city=='bangalore').where(weather_data.date.between('2018-06-30','2018-07-14')).select('date').head(15)\n",
    "mintempC_bangalore = weather_data.where(weather_data.city=='bangalore').where(weather_data.date.between('2018-06-30','2018-07-14')).select('mintempC').head(15)\n",
    "maxtempC_bangalore = weather_data.where(weather_data.city=='bangalore').where(weather_data.date.between('2018-06-30','2018-07-14')).select('maxtempC').head(15)"
   ]
  },
  {
   "cell_type": "code",
   "execution_count": 17,
   "metadata": {},
   "outputs": [
    {
     "data": {
      "text/html": [
       "<iframe id=\"igraph\" scrolling=\"no\" style=\"border:none;\" seamless=\"seamless\" src=\"https://plot.ly/~ptiwari248/6.embed\" height=\"525px\" width=\"100%\"></iframe>"
      ],
      "text/plain": [
       "<plotly.tools.PlotlyDisplay object>"
      ]
     },
     "execution_count": 17,
     "metadata": {},
     "output_type": "execute_result"
    }
   ],
   "source": [
    "import plotly.plotly as py\n",
    "import plotly.graph_objs as go\n",
    "\n",
    "trace1 = go.Bar(\n",
    "    x=date_bangalore,\n",
    "    y=mintempC_bangalore,\n",
    "    name='min temp.'\n",
    ")\n",
    "trace2 = go.Bar(\n",
    "    x=date_bangalore,\n",
    "    y=maxtempC_bangalore,\n",
    "    name='max temp.',\n",
    "    marker=dict(\n",
    "    color='orange')\n",
    ")\n",
    "\n",
    "data = [trace1, trace2]\n",
    "layout = go.Layout(\n",
    "    barmode='group',\n",
    "    title='Temperature(degrees C) bar graph(Bangalore)',\n",
    "    xaxis=dict(\n",
    "        title='Date',\n",
    "        tickangle=-45),\n",
    "    yaxis=dict(\n",
    "        title='Temperature (degrees C)')\n",
    ")\n",
    "\n",
    "fig = go.Figure(data=data, layout=layout)\n",
    "py.iplot(fig, filename='grouped-bar')"
   ]
  },
  {
   "cell_type": "code",
   "execution_count": 18,
   "metadata": {},
   "outputs": [
    {
     "data": {
      "text/html": [
       "<iframe id=\"igraph\" scrolling=\"no\" style=\"border:none;\" seamless=\"seamless\" src=\"https://plot.ly/~ptiwari248/8.embed\" height=\"525px\" width=\"100%\"></iframe>"
      ],
      "text/plain": [
       "<plotly.tools.PlotlyDisplay object>"
      ]
     },
     "execution_count": 18,
     "metadata": {},
     "output_type": "execute_result"
    }
   ],
   "source": [
    "import plotly.plotly as py\n",
    "import plotly.graph_objs as go\n",
    "\n",
    "trace1 = go.Scatter(\n",
    "    x=date_jaipur,\n",
    "    y=mintempC_jaipur,\n",
    "    name = 'Jaipur min. Temp.'\n",
    ")\n",
    "trace2 = go.Scatter(\n",
    "    x=date_mumbai,\n",
    "    y=mintempC_mumbai,\n",
    "    name = 'Mumbai min. Temp.'\n",
    ")\n",
    "trace3 = go.Scatter(\n",
    "    x=date_bangalore,\n",
    "    y=mintempC_bangalore,\n",
    "    name = 'Bangalore min. Temp.'\n",
    ")\n",
    "\n",
    "data = [trace1, trace2, trace3]\n",
    "layout = dict(title='Min. Temperature Line graph for Jaipur, Mumbai, Bangalore',\n",
    "              xaxis=dict(title='Date'),\n",
    "              yaxis=dict(title='Temperature (degrees C)')\n",
    "              )\n",
    "fig = dict(data=data, layout=layout)\n",
    "py.iplot(fig, filename='bar-line')"
   ]
  },
  {
   "cell_type": "code",
   "execution_count": 9,
   "metadata": {},
   "outputs": [
    {
     "data": {
      "text/html": [
       "<iframe id=\"igraph\" scrolling=\"no\" style=\"border:none;\" seamless=\"seamless\" src=\"https://plot.ly/~ptiwari248/8.embed\" height=\"525px\" width=\"100%\"></iframe>"
      ],
      "text/plain": [
       "<plotly.tools.PlotlyDisplay object>"
      ]
     },
     "execution_count": 9,
     "metadata": {},
     "output_type": "execute_result"
    }
   ],
   "source": [
    "import plotly.plotly as py\n",
    "import plotly.graph_objs as go\n",
    "\n",
    "trace4 = go.Scatter(\n",
    "    x=date_jaipur,\n",
    "    y=maxtempC_jaipur,\n",
    "    name = 'Jaipur max. Temp.'\n",
    ")\n",
    "trace5 = go.Scatter(\n",
    "    x=date_mumbai,\n",
    "    y=maxtempC_mumbai,\n",
    "    name = 'Mumbai max. Temp.'\n",
    ")\n",
    "trace6 = go.Scatter(\n",
    "    x=date_bangalore,\n",
    "    y=maxtempC_bangalore,\n",
    "    name = 'Bangalore max. Temp.'\n",
    ")\n",
    "\n",
    "data = [trace4, trace5, trace6]\n",
    "layout = dict(title='Max. Temperature Line graph for Jaipur, Mumbai, Bangalore',\n",
    "              xaxis=dict(title='Date'),\n",
    "              yaxis=dict(title='Temperature (degrees C)')\n",
    "              )\n",
    "fig = dict(data=data, layout=layout)\n",
    "py.iplot(fig, filename='bar-line')"
   ]
  },
  {
   "cell_type": "code",
   "execution_count": 19,
   "metadata": {},
   "outputs": [],
   "source": [
    "import pandas as pd\n",
    "df = pd.DataFrame([[ij for ij in i] for i in windspeed_data])\n",
    "df.rename(columns={0: 'windspeed'}, inplace=True)"
   ]
  },
  {
   "cell_type": "code",
   "execution_count": 20,
   "metadata": {},
   "outputs": [
    {
     "data": {
      "text/html": [
       "<iframe id=\"igraph\" scrolling=\"no\" style=\"border:none;\" seamless=\"seamless\" src=\"https://plot.ly/~ptiwari248/10.embed\" height=\"525px\" width=\"100%\"></iframe>"
      ],
      "text/plain": [
       "<plotly.tools.PlotlyDisplay object>"
      ]
     },
     "execution_count": 20,
     "metadata": {},
     "output_type": "execute_result"
    }
   ],
   "source": [
    "import plotly.plotly as py\n",
    "import plotly.graph_objs as go\n",
    "\n",
    "hours = [3, 6, 9, 12, 15, 18, 21]\n",
    "trace7 = go.Scatter(\n",
    "    x=hours,\n",
    "    y=df.windspeed,\n",
    "    name = 'Jaipur max. Temp.'\n",
    ")\n",
    "\n",
    "data = [trace7]\n",
    "layout = dict(title='Windpeed(Kmph) of today(Mumbai)',\n",
    "              xaxis=dict(title='Hours'),\n",
    "              yaxis=dict(title='Windpeed(Kmph)')\n",
    "              )\n",
    "fig = dict(data=data, layout=layout)\n",
    "py.iplot(fig, filename='bar-line-windspeed')"
   ]
  },
  {
   "cell_type": "code",
   "execution_count": null,
   "metadata": {},
   "outputs": [],
   "source": []
  }
 ],
 "metadata": {
  "kernelspec": {
   "display_name": "Python 2",
   "language": "python",
   "name": "python2"
  },
  "language_info": {
   "codemirror_mode": {
    "name": "ipython",
    "version": 2
   },
   "file_extension": ".py",
   "mimetype": "text/x-python",
   "name": "python",
   "nbconvert_exporter": "python",
   "pygments_lexer": "ipython2",
   "version": "2.7.14"
  }
 },
 "nbformat": 4,
 "nbformat_minor": 2
}
